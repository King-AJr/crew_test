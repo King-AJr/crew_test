{
 "cells": [
  {
   "cell_type": "code",
   "execution_count": null,
   "id": "cf0d2949",
   "metadata": {},
   "outputs": [],
   "source": [
    "pip install linkedin-scraper"
   ]
  },
  {
   "cell_type": "code",
   "execution_count": null,
   "id": "34966734",
   "metadata": {},
   "outputs": [],
   "source": [
    "pip install selenium"
   ]
  },
  {
   "cell_type": "code",
   "execution_count": null,
   "id": "23b3affb",
   "metadata": {},
   "outputs": [],
   "source": [
    "from linkedin_scraper import Person, actions\n",
    "from selenium import webdriver\n",
    "from selenium.webdriver.chrome.options import Options\n",
    "from selenium.webdriver.common.by import By\n",
    "import time\n",
    "from dotenv import load_dotenv\n",
    "load_dotenv()"
   ]
  },
  {
   "cell_type": "code",
   "execution_count": 46,
   "id": "d3dc0903",
   "metadata": {},
   "outputs": [
    {
     "data": {
      "text/plain": [
       "'LinkedIn Login, Sign in | LinkedIn'"
      ]
     },
     "execution_count": 46,
     "metadata": {},
     "output_type": "execute_result"
    }
   ],
   "source": [
    "# Setup\n",
    "chrome_options = Options()\n",
    "chrome_options.add_argument(\"--headless\")\n",
    "driver = webdriver.Chrome(options=chrome_options)\n",
    "driver.get('https://www.linkedin.com/login')\n",
    "time.sleep(2)\n",
    "driver.title"
   ]
  },
  {
   "cell_type": "code",
   "execution_count": null,
   "id": "404e5c48",
   "metadata": {},
   "outputs": [],
   "source": [
    "username = driver.find_element(By.ID, \"username\")\n",
    "password = driver.find_element(By.ID, \"password\")\n",
    "email.send_keys(os.environ['EMAIL'])\n",
    "password.send_keys(os.environ['PASSWORD'])\n",
    "password.submit()"
   ]
  },
  {
   "cell_type": "code",
   "execution_count": 49,
   "id": "199e2310",
   "metadata": {},
   "outputs": [
    {
     "name": "stdout",
     "output_type": "stream",
     "text": [
      "<Person Serah Johnson\n",
      "\n",
      "About\n",
      "Hello there!\n",
      "\n",
      "I’ve been expecting you!\n",
      "7 years ago, i discovered the power of the human voice and it’s impact and decided this path is where I want to be, breathing life into characters and moulding personalities with my voice!\n",
      "\n",
      "I'm Serah J., a professional Voice actor and Sound Engineer capable of producing high-quality voice overs with pristine audio from my home studio.\n",
      "I have voiced Radio and TV commercials, animations (currently the voice of Cartoon Netwoek's IYANU), audiobooks, explainer videos, on-hold/IVR messages/greetings, video games and etc., in various accents, tones and distinct voices.\n",
      "\n",
      "My voice has been described as warm, bubbly, cozy and energetic when the script demands it.\n",
      "\n",
      "Looking for an someone whose going to put their all into bringing life to your script with an enthralling voice you can't get enough of?\n",
      "\n",
      "You can send me a DM to discuss potential collaborations.\n",
      "\n",
      "But hey, don't take my word for it, scroll a little fursther down to see what my clients, past and present are saying.\n",
      "\n",
      "Thank you.\n",
      "\n",
      "Experience\n",
      "[Experience(institution_name='Self Employed | www.serahjohnson.com/audio · Freelance', linkedin_url='https://www.linkedin.com/search/results/all/?keywords=Self+Employed+%7C+www%2Eserahjohnson%2Ecom%2Faudio', website=None, industry=None, type=None, headquarters=None, company_size=None, founded=None, from_date='Jan 2018', to_date='Present', description=\"I breathe life into characters, infusing them with personality and emotion. Whether it's the quirky sidekick, the courageous hero, mischievous villain, or the nice old lady, I craft voices and characters that resonate and linger in the hearts of audiences.\\n\\nAs a Sound Engineer, I transform your creative vision into a sonic masterpiece, I craft immersive soundscapes with detailed mood maps that elevates listening experience.\\n\\nI work collaboratively with voice actors, directors, and producers which has taught me the importance of seamless teamwork.\\nI breathe life into characters, infusing them with personality and emotion. Whether it's the quirky sidekick, the courageous hero, mischievous villain, or the nice old lady, I craft voices and characters that resonate and linger in the hearts of audiences. As a Sound Engineer, I transform your creative vision into a sonic masterpiece, I craft immersive soundscapes with detailed mood maps that elevates listening experience. I work collaboratively with voice actors, directors, and producers which has taught me the importance of seamless teamwork.\\nSkills: Voice Acting · Audio Engineering · Sound Design\\nSkills:Voice Acting · Audio Engineering · Sound Design\", position_title='Voice Actor | Sound Engineer', duration='7 yrs 4 mos', location='Remote · Remote'), Experience(institution_name='Voice Over Academy · Part-time', linkedin_url='https://www.linkedin.com/company/13977583/', website=None, industry=None, type=None, headquarters=None, company_size=None, founded=None, from_date='Oct 2021', to_date='Present', description=\"🎤 Teaching a comprehensive curriculum on the art of voice overs to over 50 students, including concepts such as characterization and script interpretation.\\n\\n🎤 Evaluating students' progress and providing feedback to help them hone their skills and improve their recording techniques.\\n\\n🎤 Teaching voice over students how to break down complex recording concepts and apply them to their work, resulting in improved performances across the board.\\n🎤 Teaching a comprehensive curriculum on the art of voice overs to over 50 students, including concepts such as characterization and script interpretation. 🎤 Evaluating students' progress and providing feedback to help them hone their skills and improve their recording techniques. 🎤 Teaching voice over students how to break down complex recording concepts and apply them to their work, resulting in improved performances across the board.\", position_title='Voice Over Instructor & Teacher', duration='3 yrs 7 mos', location='Lagos State, Nigeria'), Experience(institution_name='Upwork · Freelance', linkedin_url='https://www.linkedin.com/company/4827017/', website=None, industry=None, type=None, headquarters=None, company_size=None, founded=None, from_date='Dec 2019', to_date='Present', description=\"🟩 Producing repeat voiceovers with authentic and unique storytelling for multiple clients and achieving Upwork’s Top Rated Talent Badge within my first 18 months.\\n\\n🟩 I have given life to 30+ characters across a variety of genres including fiction, non-fiction, children's books etc., with numerous 5-star reviews on Upwork as testament to my impeccable service.\\n\\n🟩 Capturing the hearts of listeners worldwide with my vocal range that extends from young adult to middle-aged woman for storybooks, soaps, live shows, explainer videos, video ads, YouTube animations, and audiobooks.\\n🟩 Producing repeat voiceovers with authentic and unique storytelling for multiple clients and achieving Upwork’s Top Rated Talent Badge within my first 18 months. 🟩 I have given life to 30+ characters across a variety of genres including fiction, non-fiction, children's books etc., with numerous 5-star reviews on Upwork as testament to my impeccable service. 🟩 Capturing the hearts of listeners worldwide with my vocal range that extends from young adult to middle-aged woman for storybooks, soaps, live shows, explainer videos, video ads, YouTube animations, and audiobooks.\", position_title='Top Rated Audiobook Narrator & Voice Over Talent', duration='5 yrs 5 mos', location='United States'), Experience(institution_name='Pocket FM · Contract', linkedin_url='https://www.linkedin.com/company/14522609/', website=None, industry=None, type=None, headquarters=None, company_size=None, founded=None, from_date='May 2021', to_date='Present', description=\"🔉 Recording, editing, mixing and mastering of the audio drama series; “Face of Love” which has crossed over 200k streams within 3 months.\\n\\n🔉 Bringing characters to life by narrating with zeal, emotions and authenticity thereby increasing listener engagement by 20% in the last 3 months.\\n\\n🔉 Editing raw recordings to produce polished final products that meet both the director's & editor's vision and aligns with the studio plans.\\n🔉 Recording, editing, mixing and mastering of the audio drama series; “Face of Love” which has crossed over 200k streams within 3 months. 🔉 Bringing characters to life by narrating with zeal, emotions and authenticity thereby increasing listener engagement by 20% in the last 3 months. 🔉 Editing raw recordings to produce polished final products that meet both the director's & editor's vision and aligns with the studio plans.\\nSkills: Voice Acting\\nSkills:Voice Acting\", position_title='Audiobook Narrator', duration='4 yrs', location='United States'), Experience(institution_name='WeHear · Contract', linkedin_url='https://www.linkedin.com/company/13598948/', website=None, industry=None, type=None, headquarters=None, company_size=None, founded=None, from_date='Apr 2021', to_date='Present', description='🛡️ Brought the characters of “Shadow Wolves; the Alpha’s Virgin Mate” to life with engaging narration, breathtaking delivery and special effects, resulting in 10% increase in book sales and total streams.\\n\\n🛡️ Gave each character a unique voice that helped listeners follow along and feel engaged with the fantasy/paranormal romance story.\\n\\n🛡️ Captured the attention of listeners with clear, concise diction and holding their interest for the entirety of the audio book.\\n\\n🛡️ Conveyed emotions and intonations appropriate to the story line, allowing listeners to feel as if they are part of the novel.\\n\\n🛡️ Edited, mixed and mastered the audiobook to create a polished final product that needed minimal edits.\\n🛡️ Brought the characters of “Shadow Wolves; the Alpha’s Virgin Mate” to life with engaging narration, breathtaking delivery and special effects, resulting in 10% increase in book sales and total streams. 🛡️ Gave each character a unique voice that helped listeners follow along and feel engaged with the fantasy/paranormal romance story. 🛡️ Captured the attention of listeners with clear, concise diction and holding their interest for the entirety of the audio book. 🛡️ Conveyed emotions and intonations appropriate to the story line, allowing listeners to feel as if they are part of the novel. 🛡️ Edited, mixed and mastered the audiobook to create a polished final product that needed minimal edits.', position_title='Audiobook Narrator & Voice Over Artist ', duration='4 yrs 1 mo', location='United States'), Experience(institution_name='Kiss FM · Part-time', linkedin_url='https://www.linkedin.com/company/35548005/', website=None, industry=None, type=None, headquarters=None, company_size=None, founded=None, from_date='Apr 2020', to_date='Nov 2023', description='🎙️Managing sound mixing boards to control audio levels and ensure quality of sound for listeners.\\n\\n🎙️Interacting and engaging with listeners thorough call-ins and social media platforms to take requests, dedications, contributions, suggestions and whatnots.\\n\\n🎙️In June 2022, I broadcasted ad campaigns and promotional jingles for 3 brands (Glovo, Star, Mango) on radio, everyday for a week, reaching over 200k+ listeners.\\n\\n🎙️Promoting brand awareness and generating valuable brand interest through creative content delivery for brands like Glovo, Star, Mango etc.\\n🎙️Managing sound mixing boards to control audio levels and ensure quality of sound for listeners. 🎙️Interacting and engaging with listeners thorough call-ins and social media platforms to take requests, dedications, contributions, suggestions and whatnots. 🎙️In June 2022, I broadcasted ad campaigns and promotional jingles for 3 brands (Glovo, Star, Mango) on radio, everyday for a week, reaching over 200k+ listeners. 🎙️Promoting brand awareness and generating valuable brand interest through creative content delivery for brands like Glovo, Star, Mango etc.\\nSkills: Radio Broadcasting\\nSkills:Radio Broadcasting', position_title='Radio Show Host & Voiceover Artist', duration='3 yrs 8 mos', location='Abuja, Federal Capital Territory, Nigeria'), Experience(institution_name='Alien Prose Entertainment · Internship', linkedin_url='https://www.linkedin.com/company/71771323/', website=None, industry=None, type=None, headquarters=None, company_size=None, founded=None, from_date='Jan 2020', to_date='Dec 2020', description='🔊 Recorded and produced audio ads for popular brands with a culminative reach of over 50 million people within 12 months.\\n\\n🔊 Mastered how to handle live recording sessions, studio recordings, as well as achieved client satisfaction by providing high-quality audio production services.\\n\\n🔊 Mastered Logic Pro X to efficiently create unique and enthralling sound effects as well as mixing and editing for various projects.\\n\\n🔊 Contributed to live recording sessions and studio recording sessions by showing proficiency with tools like Audacity, Adobe Audition, and Studio One.\\n\\n🔊 Completed audio production for promotional campaigns, events and other outsourced projects.\\n🔊 Recorded and produced audio ads for popular brands with a culminative reach of over 50 million people within 12 months. 🔊 Mastered how to handle live recording sessions, studio recordings, as well as achieved client satisfaction by providing high-quality audio production services. 🔊 Mastered Logic Pro X to efficiently create unique and enthralling sound effects as well as mixing and editing for various projects. 🔊 Contributed to live recording sessions and studio recording sessions by showing proficiency with tools like Audacity, Adobe Audition, and Studio One. 🔊 Completed audio production for promotional campaigns, events and other outsourced projects.\\nSkills: Logic Pro X\\nSkills:Logic Pro X', position_title='Audio Production Intern & Administrative Assistant', duration='1 yr', location='Abuja, Federal Capital Territory, Nigeria')]\n",
      "\n",
      "Education\n",
      "[Education(institution_name='University of Ilorin, Nigeria', linkedin_url='https://www.linkedin.com/company/35589112/', website=None, industry=None, type=None, headquarters=None, company_size=None, founded=None, from_date='Aug', to_date='2019', description='', degree='Bachelor of Applied Science - BASc')]\n",
      "\n",
      "Interest\n",
      "[]\n",
      "\n",
      "Accomplishments\n",
      "[]\n",
      "\n",
      "Contacts\n",
      "[]>\n"
     ]
    }
   ],
   "source": [
    "person = Person(\"https://www.linkedin.com/in/serahjohnson\", driver=driver)\n",
    "print(person)"
   ]
  },
  {
   "cell_type": "code",
   "execution_count": 52,
   "id": "3dc56827",
   "metadata": {},
   "outputs": [
    {
     "name": "stdout",
     "output_type": "stream",
     "text": [
      "<class 'linkedin_scraper.person.Person'>\n"
     ]
    }
   ],
   "source": [
    "print(type(person))"
   ]
  },
  {
   "cell_type": "code",
   "execution_count": 53,
   "id": "1e15bfa8",
   "metadata": {},
   "outputs": [
    {
     "name": "stdout",
     "output_type": "stream",
     "text": [
      "Hello there!\n",
      "\n",
      "I’ve been expecting you!\n",
      "7 years ago, i discovered the power of the human voice and it’s impact and decided this path is where I want to be, breathing life into characters and moulding personalities with my voice!\n",
      "\n",
      "I'm Serah J., a professional Voice actor and Sound Engineer capable of producing high-quality voice overs with pristine audio from my home studio.\n",
      "I have voiced Radio and TV commercials, animations (currently the voice of Cartoon Netwoek's IYANU), audiobooks, explainer videos, on-hold/IVR messages/greetings, video games and etc., in various accents, tones and distinct voices.\n",
      "\n",
      "My voice has been described as warm, bubbly, cozy and energetic when the script demands it.\n",
      "\n",
      "Looking for an someone whose going to put their all into bringing life to your script with an enthralling voice you can't get enough of?\n",
      "\n",
      "You can send me a DM to discuss potential collaborations.\n",
      "\n",
      "But hey, don't take my word for it, scroll a little fursther down to see what my clients, past and present are saying.\n",
      "\n",
      "Thank you.\n"
     ]
    }
   ],
   "source": [
    "print(person.about)"
   ]
  },
  {
   "cell_type": "code",
   "execution_count": null,
   "id": "128eaff0",
   "metadata": {},
   "outputs": [],
   "source": []
  }
 ],
 "metadata": {
  "kernelspec": {
   "display_name": "Python 3",
   "language": "python",
   "name": "python3"
  },
  "language_info": {
   "codemirror_mode": {
    "name": "ipython",
    "version": 3
   },
   "file_extension": ".py",
   "mimetype": "text/x-python",
   "name": "python",
   "nbconvert_exporter": "python",
   "pygments_lexer": "ipython3",
   "version": "3.12.4"
  }
 },
 "nbformat": 4,
 "nbformat_minor": 5
}
